{
 "cells": [
  {
   "cell_type": "code",
   "execution_count": 1,
   "metadata": {},
   "outputs": [],
   "source": [
    "import time\n",
    "import numpy as np\n",
    "import pandas as pd\n",
    "from pandas import DataFrame \n",
    "import matplotlib.pyplot as plt\n",
    "from matplotlib.colors import ListedColormap\n",
    "import pylab\n",
    "import seaborn as sns\n",
    "import scipy.stats as stats\n",
    "from sklearn import preprocessing\n",
    "from sklearn.preprocessing import StandardScaler\n",
    "from sklearn.tree import DecisionTreeClassifier\n",
    "from sklearn.decomposition import PCA\n",
    "from sklearn.model_selection import train_test_split\n",
    "from sklearn.linear_model import LinearRegression,LogisticRegression, Lasso,LassoCV, Ridge,RidgeCV\n",
    "from sklearn.metrics import mean_squared_error, r2_score, accuracy_score\n",
    "from sklearn.impute import KNNImputer\n",
    "from sklearn.pipeline import Pipeline\n",
    "from sklearn.ensemble import RandomForestClassifier\n",
    "from sklearn.model_selection import cross_val_score"
   ]
  },
  {
   "cell_type": "markdown",
   "metadata": {},
   "source": [
    "# Part 0: Data loading"
   ]
  },
  {
   "cell_type": "code",
   "execution_count": 2,
   "metadata": {},
   "outputs": [
    {
     "data": {
      "text/html": [
       "<div>\n",
       "<style scoped>\n",
       "    .dataframe tbody tr th:only-of-type {\n",
       "        vertical-align: middle;\n",
       "    }\n",
       "\n",
       "    .dataframe tbody tr th {\n",
       "        vertical-align: top;\n",
       "    }\n",
       "\n",
       "    .dataframe thead th {\n",
       "        text-align: right;\n",
       "    }\n",
       "</style>\n",
       "<table border=\"1\" class=\"dataframe\">\n",
       "  <thead>\n",
       "    <tr style=\"text-align: right;\">\n",
       "      <th></th>\n",
       "      <th>ID</th>\n",
       "      <th>LIMIT_BAL</th>\n",
       "      <th>SEX</th>\n",
       "      <th>EDUCATION</th>\n",
       "      <th>MARRIAGE</th>\n",
       "      <th>AGE</th>\n",
       "      <th>PAY_0</th>\n",
       "      <th>PAY_2</th>\n",
       "      <th>PAY_3</th>\n",
       "      <th>PAY_4</th>\n",
       "      <th>...</th>\n",
       "      <th>BILL_AMT4</th>\n",
       "      <th>BILL_AMT5</th>\n",
       "      <th>BILL_AMT6</th>\n",
       "      <th>PAY_AMT1</th>\n",
       "      <th>PAY_AMT2</th>\n",
       "      <th>PAY_AMT3</th>\n",
       "      <th>PAY_AMT4</th>\n",
       "      <th>PAY_AMT5</th>\n",
       "      <th>PAY_AMT6</th>\n",
       "      <th>DEFAULT</th>\n",
       "    </tr>\n",
       "  </thead>\n",
       "  <tbody>\n",
       "    <tr>\n",
       "      <th>0</th>\n",
       "      <td>1</td>\n",
       "      <td>20000</td>\n",
       "      <td>2</td>\n",
       "      <td>2</td>\n",
       "      <td>1</td>\n",
       "      <td>24</td>\n",
       "      <td>2</td>\n",
       "      <td>2</td>\n",
       "      <td>-1</td>\n",
       "      <td>-1</td>\n",
       "      <td>...</td>\n",
       "      <td>0</td>\n",
       "      <td>0</td>\n",
       "      <td>0</td>\n",
       "      <td>0</td>\n",
       "      <td>689</td>\n",
       "      <td>0</td>\n",
       "      <td>0</td>\n",
       "      <td>0</td>\n",
       "      <td>0</td>\n",
       "      <td>1</td>\n",
       "    </tr>\n",
       "    <tr>\n",
       "      <th>1</th>\n",
       "      <td>2</td>\n",
       "      <td>120000</td>\n",
       "      <td>2</td>\n",
       "      <td>2</td>\n",
       "      <td>2</td>\n",
       "      <td>26</td>\n",
       "      <td>-1</td>\n",
       "      <td>2</td>\n",
       "      <td>0</td>\n",
       "      <td>0</td>\n",
       "      <td>...</td>\n",
       "      <td>3272</td>\n",
       "      <td>3455</td>\n",
       "      <td>3261</td>\n",
       "      <td>0</td>\n",
       "      <td>1000</td>\n",
       "      <td>1000</td>\n",
       "      <td>1000</td>\n",
       "      <td>0</td>\n",
       "      <td>2000</td>\n",
       "      <td>1</td>\n",
       "    </tr>\n",
       "    <tr>\n",
       "      <th>2</th>\n",
       "      <td>3</td>\n",
       "      <td>90000</td>\n",
       "      <td>2</td>\n",
       "      <td>2</td>\n",
       "      <td>2</td>\n",
       "      <td>34</td>\n",
       "      <td>0</td>\n",
       "      <td>0</td>\n",
       "      <td>0</td>\n",
       "      <td>0</td>\n",
       "      <td>...</td>\n",
       "      <td>14331</td>\n",
       "      <td>14948</td>\n",
       "      <td>15549</td>\n",
       "      <td>1518</td>\n",
       "      <td>1500</td>\n",
       "      <td>1000</td>\n",
       "      <td>1000</td>\n",
       "      <td>1000</td>\n",
       "      <td>5000</td>\n",
       "      <td>0</td>\n",
       "    </tr>\n",
       "    <tr>\n",
       "      <th>3</th>\n",
       "      <td>4</td>\n",
       "      <td>50000</td>\n",
       "      <td>2</td>\n",
       "      <td>2</td>\n",
       "      <td>1</td>\n",
       "      <td>37</td>\n",
       "      <td>0</td>\n",
       "      <td>0</td>\n",
       "      <td>0</td>\n",
       "      <td>0</td>\n",
       "      <td>...</td>\n",
       "      <td>28314</td>\n",
       "      <td>28959</td>\n",
       "      <td>29547</td>\n",
       "      <td>2000</td>\n",
       "      <td>2019</td>\n",
       "      <td>1200</td>\n",
       "      <td>1100</td>\n",
       "      <td>1069</td>\n",
       "      <td>1000</td>\n",
       "      <td>0</td>\n",
       "    </tr>\n",
       "    <tr>\n",
       "      <th>4</th>\n",
       "      <td>5</td>\n",
       "      <td>50000</td>\n",
       "      <td>1</td>\n",
       "      <td>2</td>\n",
       "      <td>1</td>\n",
       "      <td>57</td>\n",
       "      <td>-1</td>\n",
       "      <td>0</td>\n",
       "      <td>-1</td>\n",
       "      <td>0</td>\n",
       "      <td>...</td>\n",
       "      <td>20940</td>\n",
       "      <td>19146</td>\n",
       "      <td>19131</td>\n",
       "      <td>2000</td>\n",
       "      <td>36681</td>\n",
       "      <td>10000</td>\n",
       "      <td>9000</td>\n",
       "      <td>689</td>\n",
       "      <td>679</td>\n",
       "      <td>0</td>\n",
       "    </tr>\n",
       "  </tbody>\n",
       "</table>\n",
       "<p>5 rows × 25 columns</p>\n",
       "</div>"
      ],
      "text/plain": [
       "   ID  LIMIT_BAL  SEX  EDUCATION  MARRIAGE  AGE  PAY_0  PAY_2  PAY_3  PAY_4  \\\n",
       "0   1      20000    2          2         1   24      2      2     -1     -1   \n",
       "1   2     120000    2          2         2   26     -1      2      0      0   \n",
       "2   3      90000    2          2         2   34      0      0      0      0   \n",
       "3   4      50000    2          2         1   37      0      0      0      0   \n",
       "4   5      50000    1          2         1   57     -1      0     -1      0   \n",
       "\n",
       "   ...  BILL_AMT4  BILL_AMT5  BILL_AMT6  PAY_AMT1  PAY_AMT2  PAY_AMT3  \\\n",
       "0  ...          0          0          0         0       689         0   \n",
       "1  ...       3272       3455       3261         0      1000      1000   \n",
       "2  ...      14331      14948      15549      1518      1500      1000   \n",
       "3  ...      28314      28959      29547      2000      2019      1200   \n",
       "4  ...      20940      19146      19131      2000     36681     10000   \n",
       "\n",
       "   PAY_AMT4  PAY_AMT5  PAY_AMT6  DEFAULT  \n",
       "0         0         0         0        1  \n",
       "1      1000         0      2000        1  \n",
       "2      1000      1000      5000        0  \n",
       "3      1100      1069      1000        0  \n",
       "4      9000       689       679        0  \n",
       "\n",
       "[5 rows x 25 columns]"
      ]
     },
     "execution_count": 2,
     "metadata": {},
     "output_type": "execute_result"
    }
   ],
   "source": [
    "#read the csv\n",
    "df = pd.read_csv(\"ccdefault.csv\")\n",
    "df.head()"
   ]
  },
  {
   "cell_type": "code",
   "execution_count": 3,
   "metadata": {
    "scrolled": true
   },
   "outputs": [
    {
     "name": "stdout",
     "output_type": "stream",
     "text": [
      "# of Rows: 30000\n",
      "# of Columns: 25\n",
      "                 ID       LIMIT_BAL           SEX     EDUCATION      MARRIAGE  \\\n",
      "count  30000.000000    30000.000000  30000.000000  30000.000000  30000.000000   \n",
      "mean   15000.500000   167484.322667      1.603733      1.853133      1.551867   \n",
      "std     8660.398374   129747.661567      0.489129      0.790349      0.521970   \n",
      "min        1.000000    10000.000000      1.000000      0.000000      0.000000   \n",
      "25%     7500.750000    50000.000000      1.000000      1.000000      1.000000   \n",
      "50%    15000.500000   140000.000000      2.000000      2.000000      2.000000   \n",
      "75%    22500.250000   240000.000000      2.000000      2.000000      2.000000   \n",
      "max    30000.000000  1000000.000000      2.000000      6.000000      3.000000   \n",
      "\n",
      "                AGE         PAY_0         PAY_2         PAY_3         PAY_4  \\\n",
      "count  30000.000000  30000.000000  30000.000000  30000.000000  30000.000000   \n",
      "mean      35.485500     -0.016700     -0.133767     -0.166200     -0.220667   \n",
      "std        9.217904      1.123802      1.197186      1.196868      1.169139   \n",
      "min       21.000000     -2.000000     -2.000000     -2.000000     -2.000000   \n",
      "25%       28.000000     -1.000000     -1.000000     -1.000000     -1.000000   \n",
      "50%       34.000000      0.000000      0.000000      0.000000      0.000000   \n",
      "75%       41.000000      0.000000      0.000000      0.000000      0.000000   \n",
      "max       79.000000      8.000000      8.000000      8.000000      8.000000   \n",
      "\n",
      "       ...      BILL_AMT4      BILL_AMT5      BILL_AMT6       PAY_AMT1  \\\n",
      "count  ...   30000.000000   30000.000000   30000.000000   30000.000000   \n",
      "mean   ...   43262.948967   40311.400967   38871.760400    5663.580500   \n",
      "std    ...   64332.856134   60797.155770   59554.107537   16563.280354   \n",
      "min    ... -170000.000000  -81334.000000 -339603.000000       0.000000   \n",
      "25%    ...    2326.750000    1763.000000    1256.000000    1000.000000   \n",
      "50%    ...   19052.000000   18104.500000   17071.000000    2100.000000   \n",
      "75%    ...   54506.000000   50190.500000   49198.250000    5006.000000   \n",
      "max    ...  891586.000000  927171.000000  961664.000000  873552.000000   \n",
      "\n",
      "           PAY_AMT2      PAY_AMT3       PAY_AMT4       PAY_AMT5  \\\n",
      "count  3.000000e+04   30000.00000   30000.000000   30000.000000   \n",
      "mean   5.921163e+03    5225.68150    4826.076867    4799.387633   \n",
      "std    2.304087e+04   17606.96147   15666.159744   15278.305679   \n",
      "min    0.000000e+00       0.00000       0.000000       0.000000   \n",
      "25%    8.330000e+02     390.00000     296.000000     252.500000   \n",
      "50%    2.009000e+03    1800.00000    1500.000000    1500.000000   \n",
      "75%    5.000000e+03    4505.00000    4013.250000    4031.500000   \n",
      "max    1.684259e+06  896040.00000  621000.000000  426529.000000   \n",
      "\n",
      "            PAY_AMT6       DEFAULT  \n",
      "count   30000.000000  30000.000000  \n",
      "mean     5215.502567      0.221200  \n",
      "std     17777.465775      0.415062  \n",
      "min         0.000000      0.000000  \n",
      "25%       117.750000      0.000000  \n",
      "50%      1500.000000      0.000000  \n",
      "75%      4000.000000      0.000000  \n",
      "max    528666.000000      1.000000  \n",
      "\n",
      "[8 rows x 25 columns]\n"
     ]
    }
   ],
   "source": [
    "print('# of Rows:', len(df))\n",
    "print('# of Columns:',len(df.columns))\n",
    "summary = df.describe()\n",
    "print(summary)"
   ]
  },
  {
   "cell_type": "markdown",
   "metadata": {},
   "source": [
    "We can see that there are 30000 instances and 25 columns. "
   ]
  },
  {
   "cell_type": "markdown",
   "metadata": {},
   "source": [
    "For Part 1 and Part 2, we use the ccdefault dataset, with 90% for training and 10% for test (stratified sampling) and 10 fold cross validation for the random forest model."
   ]
  },
  {
   "cell_type": "markdown",
   "metadata": {},
   "source": [
    "# Part 1: Random forest estimators"
   ]
  },
  {
   "cell_type": "code",
   "execution_count": 4,
   "metadata": {},
   "outputs": [],
   "source": [
    "X = df.iloc[:, 1:24].values\n",
    "y = df['DEFAULT'].values\n",
    "\n",
    "X_train, X_test, y_train, y_test = train_test_split(X, y, test_size=0.1, random_state=42)"
   ]
  },
  {
   "cell_type": "code",
   "execution_count": 5,
   "metadata": {},
   "outputs": [],
   "source": [
    "sc = StandardScaler()\n",
    "sc.fit(X_train)\n",
    "X_train_std = sc.transform(X_train)\n",
    "X_test_std = sc.transform(X_test)"
   ]
  },
  {
   "cell_type": "code",
   "execution_count": 6,
   "metadata": {},
   "outputs": [
    {
     "name": "stdout",
     "output_type": "stream",
     "text": [
      "N_estimators:  1\n",
      "In sample accuracy:  0.7292592592592593\n",
      "Out of sample accuracy:  0.7166666666666667\n",
      "Computation time:  0.1875 s\n",
      "\n",
      "N_estimators:  5\n",
      "In sample accuracy:  0.7868148148148147\n",
      "Out of sample accuracy:  0.781\n",
      "Computation time:  0.40625 s\n",
      "\n",
      "N_estimators:  10\n",
      "In sample accuracy:  0.8051111111111112\n",
      "Out of sample accuracy:  0.8093333333333333\n",
      "Computation time:  0.703125 s\n",
      "\n",
      "N_estimators:  20\n",
      "In sample accuracy:  0.812037037037037\n",
      "Out of sample accuracy:  0.8073333333333332\n",
      "Computation time:  1.328125 s\n",
      "\n",
      "N_estimators:  50\n",
      "In sample accuracy:  0.8142592592592592\n",
      "Out of sample accuracy:  0.8113333333333334\n",
      "Computation time:  3.234375 s\n",
      "\n",
      "N_estimators:  75\n",
      "In sample accuracy:  0.8156666666666668\n",
      "Out of sample accuracy:  0.8119999999999999\n",
      "Computation time:  5.328125 s\n",
      "\n",
      "N_estimators:  100\n",
      "In sample accuracy:  0.8165555555555555\n",
      "Out of sample accuracy:  0.8116666666666668\n",
      "Computation time:  7.75 s\n",
      "\n",
      "N_estimators:  150\n",
      "In sample accuracy:  0.8157037037037037\n",
      "Out of sample accuracy:  0.812\n",
      "Computation time:  10.4375 s\n",
      "\n"
     ]
    }
   ],
   "source": [
    "estimators = [1, 5, 10, 20, 50,75, 100, 150]\n",
    "CV_train = []\n",
    "CV_test = []\n",
    "\n",
    "for i in estimators:\n",
    "\n",
    "    start_time = time.process_time()\n",
    "    \n",
    "    forest = RandomForestClassifier(n_estimators=i)\n",
    "    forest.fit(X_train_std, y_train)\n",
    "    scores_CV_train = cross_val_score(forest, X_train_std, y_train, cv=10, scoring='accuracy', n_jobs=-1)\n",
    "    scores_CV_test = cross_val_score(forest, X_test_std, y_test, cv=10, scoring='accuracy', n_jobs=-1)\n",
    "\n",
    "    end_time = time.process_time()\n",
    "\n",
    "    # Calculate the mean\n",
    "    mean_CV_train = scores_CV_train.mean()\n",
    "    CV_train.append(mean_CV_train)\n",
    "    mean_CV_test = scores_CV_test.mean()\n",
    "    CV_test.append(mean_CV_test)\n",
    "\n",
    "    print('N_estimators: ', i)\n",
    "    print('In sample accuracy: ', mean_CV_train)\n",
    "    print('Out of sample accuracy: ', mean_CV_test)\n",
    "    print('Computation time: ', end_time-start_time, 's')\n",
    "    print(\"\")"
   ]
  },
  {
   "cell_type": "code",
   "execution_count": 7,
   "metadata": {},
   "outputs": [
    {
     "name": "stdout",
     "output_type": "stream",
     "text": [
      "\n",
      "CV_train: [0.7292592592592593, 0.7868148148148147, 0.8051111111111112, 0.812037037037037, 0.8142592592592592, 0.8156666666666668, 0.8165555555555555, 0.8157037037037037]\n",
      "CV_test: [0.7166666666666667, 0.781, 0.8093333333333333, 0.8073333333333332, 0.8113333333333334, 0.8119999999999999, 0.8116666666666668, 0.812]\n"
     ]
    }
   ],
   "source": [
    "print(\"\")\n",
    "print(\"CV_train:\", CV_train)\n",
    "print(\"CV_test:\",CV_test)"
   ]
  },
  {
   "cell_type": "markdown",
   "metadata": {},
   "source": [
    "# Part 2: Random forest feature importance\n"
   ]
  },
  {
   "cell_type": "code",
   "execution_count": 8,
   "metadata": {},
   "outputs": [
    {
     "name": "stdout",
     "output_type": "stream",
     "text": [
      " 1) PAY_0                          0.096677\n",
      " 2) AGE                            0.066603\n",
      " 3) BILL_AMT1                      0.060122\n",
      " 4) LIMIT_BAL                      0.059636\n",
      " 5) BILL_AMT2                      0.054707\n",
      " 6) PAY_AMT1                       0.052897\n",
      " 7) BILL_AMT3                      0.051782\n",
      " 8) BILL_AMT6                      0.050887\n",
      " 9) BILL_AMT4                      0.050735\n",
      "10) BILL_AMT5                      0.050210\n",
      "11) PAY_AMT2                       0.047797\n",
      "12) PAY_AMT3                       0.046975\n",
      "13) PAY_AMT6                       0.045617\n",
      "14) PAY_AMT5                       0.043390\n",
      "15) PAY_AMT4                       0.043118\n",
      "16) PAY_2                          0.040481\n",
      "17) PAY_3                          0.028872\n",
      "18) PAY_4                          0.022484\n",
      "19) EDUCATION                      0.020721\n",
      "20) PAY_5                          0.020580\n",
      "21) PAY_6                          0.019688\n",
      "22) MARRIAGE                       0.013949\n",
      "23) SEX                            0.012073\n"
     ]
    },
    {
     "data": {
      "image/png": "[encoded data removed]",
      "text/plain": [
       "<Figure size 432x288 with 1 Axes>"
      ]
     },
     "metadata": {
      "needs_background": "light"
     },
     "output_type": "display_data"
    }
   ],
   "source": [
    "feature_labels = df.columns[1:-1]\n",
    "\n",
    "forest = RandomForestClassifier(n_estimators=200)\n",
    "forest.fit(X_train_std, y_train)\n",
    "importances = forest.feature_importances_\n",
    "indices = np.argsort(importances)[::-1]\n",
    "xlabel = []\n",
    "\n",
    "for i in range(X_train_std.shape[1]):\n",
    "    xlabel.append(feature_labels[indices[i]])\n",
    "    print(\"%2d) %-*s %f\" % (i+1, 30, feature_labels[indices[i]], importances[indices[i]]))\n",
    "\n",
    "plt.title('Feature Importance')\n",
    "plt.bar(range(X_train_std.shape[1]), importances[indices], align='center')\n",
    "plt.xticks(range(X_train_std.shape[1]), xlabel, rotation=90)\n",
    "plt.xlim([-1, X_train_std.shape[1]])\n",
    "plt.tight_layout()\n",
    "plt.show()"
   ]
  },
  {
   "cell_type": "markdown",
   "metadata": {},
   "source": [
    "# Part 3: Conclusions"
   ]
  },
  {
   "cell_type": "markdown",
   "metadata": {},
   "source": [
    "a)\tWhat is the relationship between n_estimators, in-sample CV accuracy and computation time?\n",
    "   As we can see from part 1, as n_estimators increases, in-sample CV accuracy improves (until a certain level) and computation time increases. \n",
    "   However, when n_estimators is over 50, we can only a small improvements on in-sample CV accuracy, but a significant increases in computation time. When n_estimators is over 100, we even see a small decrease in in-sample-accuracy (probably due to ramdomness).\n",
    "\n",
    "b)\tWhat is the optimal number of estimators for your forest?  \n",
    "     The optimal number of estimators for the forest is 75, acheiving an in-sample-accuracy  of 0.8156 and an out-of-sample accuracy of 0.8119. Computation time of 100 or 150 estimators is too large compared to computation time of 75 estimators, achieving similar accuracy.\n",
    "\n",
    "c)\tWhich features contribute the most importance in your model according to scikit-learn function?  \n",
    "As we can see from part 2, PAY_0 contributes the most importance, 9.6677%.\n",
    "\n",
    "d)\tWhat is feature importance and how is it calculated?  (If you are not sure, refer to the Scikit-Learn.org documentation.)\n",
    "Feature importance is the fraction of a feature contributes to the predictive model and it's a normalized estimate of the predictive power of a feature. The higher the value, the more important is the contribution of the matching feature to the prediction function.\n",
    "In random forest model, feature importance scores, whose values are positive and sum to 1, of futures are measured by the averaged impurity decrease computed from all decision trees in the forest."
   ]
  },
  {
   "cell_type": "markdown",
   "metadata": {},
   "source": [
    "# Part 4: Appendix"
   ]
  },
  {
   "cell_type": "markdown",
   "metadata": {},
   "source": [
    "Link to github repo : https://github.com/TakumiDawn/Machine-Learning-in-Finance-Lab/tree/master/IE517_F20_HW7"
   ]
  },
  {
   "cell_type": "code",
   "execution_count": 9,
   "metadata": {},
   "outputs": [
    {
     "name": "stdout",
     "output_type": "stream",
     "text": [
      "My name is Takumi Li\n",
      "My NetID is: feiyang3\n",
      "I hereby certify that I have read the University policy on Academic Integrity and that I am not in violation.\n"
     ]
    }
   ],
   "source": [
    "print(\"My name is Takumi Li\")\n",
    "print(\"My NetID is: feiyang3\")\n",
    "print(\"I hereby certify that I have read the University policy on Academic Integrity and that I am not in violation.\")"
   ]
  }
 ],
 "metadata": {
  "kernelspec": {
   "display_name": "Python 3",
   "language": "python",
   "name": "python3"
  },
  "language_info": {
   "codemirror_mode": {
    "name": "ipython",
    "version": 3
   },
   "file_extension": ".py",
   "mimetype": "text/x-python",
   "name": "python",
   "nbconvert_exporter": "python",
   "pygments_lexer": "ipython3",
   "version": "3.8.3"
  }
 },
 "nbformat": 4,
 "nbformat_minor": 4
}
